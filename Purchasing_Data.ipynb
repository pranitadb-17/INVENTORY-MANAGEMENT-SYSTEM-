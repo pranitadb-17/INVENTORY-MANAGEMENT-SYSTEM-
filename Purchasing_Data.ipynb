{
 "cells": [
  {
   "cell_type": "code",
   "execution_count": 1,
   "metadata": {},
   "outputs": [],
   "source": [
    "import json\n",
    "import datetime"
   ]
  },
  {
   "cell_type": "markdown",
   "metadata": {},
   "source": [
    "# Reading data of Inventory"
   ]
  },
  {
   "cell_type": "code",
   "execution_count": 2,
   "metadata": {},
   "outputs": [
    {
     "data": {
      "text/plain": [
       "{'10785': {'PName': 'Sunflower-Oil',\n",
       "  'Quantity': 23,\n",
       "  'Price': 150.0,\n",
       "  'Catagory': 'Oil',\n",
       "  'Manufactured_Date': '2017-04-11',\n",
       "  'Expiry_Date': '2021-12-09'},\n",
       " '12342': {'PName': 'Sugar',\n",
       "  'Quantity': 10,\n",
       "  'Price': 45.0,\n",
       "  'Catagory': 'Soap',\n",
       "  'Manufactured_Date': '2019-11-09',\n",
       "  'Expiry_Date': '2022-11-03'},\n",
       " '10947': {'PName': 'Pen',\n",
       "  'Quantity': 25,\n",
       "  'Price': 10.0,\n",
       "  'Catagory': 'Stationary',\n",
       "  'Manufactured_Date': '2020-04-26',\n",
       "  'Expiry_Date': '2022-03-10'},\n",
       " '10349': {'PName': 'Notebooks',\n",
       "  'Quantity': 20,\n",
       "  'Price': 50.0,\n",
       "  'Catagory': 'Sugar',\n",
       "  'Manufactured_Date': '2018-07-15',\n",
       "  'Expiry_Date': '2023-09-10'},\n",
       " '10982': {'PName': 'Colgate',\n",
       "  'Quantity': 45,\n",
       "  'Price': 80.0,\n",
       "  'Catagory': 'Toothpaste',\n",
       "  'Manufactured_Date': '2019-02-29',\n",
       "  'Expiry_Date': '2022-06-30'},\n",
       " '11671': {'PName': 'Sanitary pad',\n",
       "  'Quantity': 5,\n",
       "  'Price': 110.0,\n",
       "  'Catagory': 'Sugar',\n",
       "  'Manufactured_Date': '2019-02-29',\n",
       "  'Expiry_Date': '2022-01-01'},\n",
       " '11978': {'PName': 'Cadbury',\n",
       "  'Quantity': 20,\n",
       "  'Price': 40.0,\n",
       "  'Catagory': 'Sugar',\n",
       "  'Manufactured_Date': '2019-11-09',\n",
       "  'Expiry_Date': '2023-07-23'},\n",
       " '12947': {'PName': 'Maggie',\n",
       "  'Quantity': 10,\n",
       "  'Price': 60.0,\n",
       "  'Catagory': 'Sugar',\n",
       "  'Manufactured_Date': '2018-07-15',\n",
       "  'Expiry_Date': '2022-10-10'},\n",
       " '13527': {'PName': 'Parle-G',\n",
       "  'Quantity': 50,\n",
       "  'Price': 100.0,\n",
       "  'Catagory': 'Biscuits',\n",
       "  'Manufactured_Date': '2019-02-29',\n",
       "  'Expiry_Date': '2023-10-24'},\n",
       " '11944': {'PName': 'Tomato-sos',\n",
       "  'Quantity': 4,\n",
       "  'Price': 80.0,\n",
       "  'Catagory': 'Jelly',\n",
       "  'Manufactured_Date': '2017-03-10',\n",
       "  'Expiry_Date': '2021-09-10'},\n",
       " '16448': {'PName': 'Pen',\n",
       "  'Quantity': 15,\n",
       "  'Price': 50.0,\n",
       "  'Catagory': 'Stationary',\n",
       "  'Manufactured_Date': '2018-07-15',\n",
       "  'Expiry_Date': '2024-10-19'},\n",
       " '10510': {'PName': 'Electric Heater',\n",
       "  'Quantity': 50,\n",
       "  'Price': 400.0,\n",
       "  'Catagory': 'Electronics',\n",
       "  'Manufactured_Date': '2020-04-26',\n",
       "  'Expiry_Date': '2023-01-01'},\n",
       " '10342': {'PName': 'Handwash',\n",
       "  'Quantity': 2,\n",
       "  'Price': 70.0,\n",
       "  'Catagory': 'Detergent',\n",
       "  'Manufactured_Date': '2018-01-12',\n",
       "  'Expiry_Date': '2021-12-19'},\n",
       " '10866': {'PName': 'Chips',\n",
       "  'Quantity': 10,\n",
       "  'Price': 15.0,\n",
       "  'Catagory': 'Snacks',\n",
       "  'Manufactured_Date': '2021-05-05',\n",
       "  'Expiry_Date': '2022-03-17'},\n",
       " '15214': {'PName': 'Soyasticks',\n",
       "  'Quantity': 5,\n",
       "  'Price': 40.0,\n",
       "  'Catagory': 'Snacks',\n",
       "  'Manufactured_Date': '2020-04-26',\n",
       "  'Expiry_Date': '2024-01-05'},\n",
       " '14611': {'PName': 'Kitkat',\n",
       "  'Quantity': 15,\n",
       "  'Price': 28.0,\n",
       "  'Catagory': 'Chocolates',\n",
       "  'Manufactured_Date': '2019-11-09',\n",
       "  'Expiry_Date': '2022-07-01'},\n",
       " '17542': {'PName': 'Handbag',\n",
       "  'Quantity': 3,\n",
       "  'Price': 250.0,\n",
       "  'Catagory': 'Accessories',\n",
       "  'Manufactured_Date': '2018-01-12',\n",
       "  'Expiry_Date': '2023-11-19'},\n",
       " '13519': {'PName': 'Maggie',\n",
       "  'Quantity': 2,\n",
       "  'Price': 240.0,\n",
       "  'Catagory': 'Snacks',\n",
       "  'Manufactured_Date': '2018-01-12',\n",
       "  'Expiry_Date': '2022-12-04'},\n",
       " '16431': {'PName': 'Bourbon',\n",
       "  'Quantity': 5,\n",
       "  'Price': 30.0,\n",
       "  'Catagory': 'Biscuits',\n",
       "  'Manufactured_Date': '2019-02-29',\n",
       "  'Expiry_Date': '2024-10-09'},\n",
       " '21957': {'PName': 'Dates',\n",
       "  'Quantity': 22,\n",
       "  'Price': 300.0,\n",
       "  'Catagory': 'Snacks',\n",
       "  'Manufactured_Date': '2021-05-05',\n",
       "  'Expiry_Date': '2023-10-24'},\n",
       " '12451': {'PName': 'Tata-Salt',\n",
       "  'Quantity': 1,\n",
       "  'Price': 50.0,\n",
       "  'Catagory': 'Salt',\n",
       "  'Manufactured_Date': '2019-11-09',\n",
       "  'Expiry_Date': '2021-09-10'},\n",
       " '17443': {'PName': 'Chips',\n",
       "  'Quantity': 4,\n",
       "  'Price': 20.0,\n",
       "  'Catagory': 'Snacks',\n",
       "  'Manufactured_Date': '2018-01-12',\n",
       "  'Expiry_Date': '2023-09-10'},\n",
       " '11949': {'PName': 'Soya-Sos',\n",
       "  'Quantity': 10,\n",
       "  'Price': 80.0,\n",
       "  'Catagory': 'Jelly',\n",
       "  'Manufactured_Date': '2021-05-05',\n",
       "  'Expiry_Date': '2022-07-01'},\n",
       " '15472': {'PName': 'DairyMilk',\n",
       "  'Quantity': 10,\n",
       "  'Price': 100.0,\n",
       "  'Catagory': 'Chocolates',\n",
       "  'Manufactured_Date': '2017-03-10',\n",
       "  'Expiry_Date': '2022-11-03'},\n",
       " '19753': {'PName': 'Parle-G',\n",
       "  'Quantity': 15,\n",
       "  'Price': 240.0,\n",
       "  'Catagory': 'Biscuits',\n",
       "  'Manufactured_Date': '2021-05-30',\n",
       "  'Expiry_Date': '2023-01-01'},\n",
       " '14236': {'PName': 'Marie_gold',\n",
       "  'Quantity': 9,\n",
       "  'Price': 100.0,\n",
       "  'Catagory': 'Biscuits',\n",
       "  'Manufactured_Date': '2021-05-30',\n",
       "  'Expiry_Date': '2024-10-09'},\n",
       " '11265': {'PName': 'Icecream',\n",
       "  'Quantity': 5,\n",
       "  'Price': 110.9,\n",
       "  'Catagory': 'Chocolates',\n",
       "  'Manufactured_Date': '2017-03-10',\n",
       "  'Expiry_Date': '2022-03-17'},\n",
       " '13473': {'PName': 'Basmati',\n",
       "  'Quantity': 1,\n",
       "  'Price': 450.0,\n",
       "  'Catagory': 'Rice',\n",
       "  'Manufactured_Date': '2018-01-12',\n",
       "  'Expiry_Date': '2022-12-04'},\n",
       " '10426': {'PName': 'Mob',\n",
       "  'Quantity': 65,\n",
       "  'Price': 210.0,\n",
       "  'Catagory': 'Cleaning_material',\n",
       "  'Manufactured_Date': '2020-10-15',\n",
       "  'Expiry_Date': '2023-09-18'},\n",
       " '16736': {'PName': 'Battery',\n",
       "  'Quantity': 100,\n",
       "  'Price': 20.0,\n",
       "  'Catagory': 'Electronics',\n",
       "  'Manufactured_Date': '2020-07-16',\n",
       "  'Expiry_Date': '2023-11-10'}}"
      ]
     },
     "execution_count": 2,
     "metadata": {},
     "output_type": "execute_result"
    }
   ],
   "source": [
    "f1=open(\"Records.json\",'r')\n",
    "ip = f1.read()\n",
    "f1.close()\n",
    "records = json.loads(ip)\n",
    "\n",
    "global Purch_id\n",
    "Purch_id=0\n",
    "\n",
    "records"
   ]
  },
  {
   "cell_type": "markdown",
   "metadata": {},
   "source": [
    "# Purchase a product and print Billing amount"
   ]
  },
  {
   "cell_type": "code",
   "execution_count": 3,
   "metadata": {},
   "outputs": [
    {
     "name": "stdout",
     "output_type": "stream",
     "text": [
      "Enter product id : 12451\n",
      "Enter product quantity : 1\n",
      "Product Name :  Tata-Salt\n",
      "Price :  50.0\n",
      "*** Billing amount =  50.0  ***\n",
      "Date & Time :  2021-09-06 10:22:34.574993\n"
     ]
    }
   ],
   "source": [
    "Uid=input(\"Enter product id : \")\n",
    "Uqn=int(input(\"Enter product quantity : \"))\n",
    "\n",
    "if(Uid in records.keys()):\n",
    "    if(records[Uid]['Quantity'] >= Uqn):\n",
    "        print(\"Product Name : \",records[Uid]['PName'])\n",
    "        print(\"Price : \",records[Uid]['Price'])\n",
    "        print(\"*** Billing amount = \", records[Uid]['Price'] * Uqn, \" ***\")\n",
    "        print(\"Date & Time : \",datetime.datetime.now())\n",
    "    \n",
    "    else:\n",
    "        print(\"Sorry!! The required quantity for your item is not available in the Inventory.\\n Please check for other quantity\")\n",
    "        \n",
    "else:\n",
    "    print(\"Sorry!! The required item is not available in the Inventory.\\n Please check for other items\")"
   ]
  },
  {
   "cell_type": "markdown",
   "metadata": {},
   "source": [
    "# Updating Inventory Data"
   ]
  },
  {
   "cell_type": "code",
   "execution_count": 4,
   "metadata": {},
   "outputs": [],
   "source": [
    "r = json.dumps(records)\n",
    "f1=open(\"Records.json\",'w')\n",
    "f1.write(r)\n",
    "f1.close()\n"
   ]
  },
  {
   "cell_type": "markdown",
   "metadata": {},
   "source": [
    "# Creating Sales Record"
   ]
  },
  {
   "cell_type": "code",
   "execution_count": 5,
   "metadata": {},
   "outputs": [
    {
     "data": {
      "text/plain": [
       "{1: {'Prod_id': '12451',\n",
       "  'Quantity': 1,\n",
       "  'Amount': 50.0,\n",
       "  'Date & Time': '2021-09-06 10:22:34'}}"
      ]
     },
     "execution_count": 5,
     "metadata": {},
     "output_type": "execute_result"
    }
   ],
   "source": [
    "# Updating values in sales dictionary\n",
    "sales={}\n",
    "sales.update({Purch_id+1 : {'Prod_id' : Uid, 'Quantity' : Uqn, 'Amount' : records[Uid]['Price']*Uqn, 'Date & Time' : datetime.datetime.now().strftime('%Y-%m-%d %H:%M:%S')}})\n",
    "Purch_id+=1\n",
    "sales"
   ]
  },
  {
   "cell_type": "code",
   "execution_count": 6,
   "metadata": {},
   "outputs": [],
   "source": [
    "#sale = json.dumps(sales)\n",
    "\n",
    "f2 = open(\"Sales.json\",'r+')\n",
    "file_data = json.load(f2)\n",
    "file_data.update({len(file_data)+1 : {'Prod_id' : Uid, 'Quantity' : Uqn, 'Amount' : records[Uid]['Price']*Uqn, 'Date & Time' : datetime.datetime.now().strftime('%Y-%m-%d %H:%M:%S')}})\n",
    "f2.seek(0)\n",
    "json.dump(file_data,f2,indent=1)\n",
    "f2.close()\n"
   ]
  },
  {
   "cell_type": "code",
   "execution_count": 7,
   "metadata": {},
   "outputs": [],
   "source": [
    "# To check Sells report"
   ]
  },
  {
   "cell_type": "code",
   "execution_count": 8,
   "metadata": {},
   "outputs": [
    {
     "name": "stdout",
     "output_type": "stream",
     "text": [
      "***** Sales Report *****\n"
     ]
    },
    {
     "data": {
      "text/plain": [
       "{'1': {'Prod_id': '11265',\n",
       "  'Quantity': 4,\n",
       "  'Amount': 443.6,\n",
       "  'Date & Time': '2021-09-06 09:58:09'},\n",
       " '2': {'Prod_id': '13527',\n",
       "  'Quantity': 5,\n",
       "  'Amount': 500.0,\n",
       "  'Date & Time': '2021-09-06 10:01:02'},\n",
       " '3': {'Prod_id': '13527',\n",
       "  'Quantity': 5,\n",
       "  'Amount': 500.0,\n",
       "  'Date & Time': '2021-09-06 10:04:49'},\n",
       " '4': {'Prod_id': '10785',\n",
       "  'Quantity': 1,\n",
       "  'Amount': 150.0,\n",
       "  'Date & Time': '2021-09-06 10:06:25'},\n",
       " '5': {'Prod_id': '11944',\n",
       "  'Quantity': 3,\n",
       "  'Amount': 240.0,\n",
       "  'Date & Time': '2021-09-06 10:07:07'},\n",
       " '6': {'Prod_id': '10866',\n",
       "  'Quantity': 10,\n",
       "  'Amount': 150.0,\n",
       "  'Date & Time': '2021-09-06 10:07:33'},\n",
       " '7': {'Prod_id': '14611',\n",
       "  'Quantity': 2,\n",
       "  'Amount': 56.0,\n",
       "  'Date & Time': '2021-09-06 10:08:50'},\n",
       " '8': {'Prod_id': '14236',\n",
       "  'Quantity': 7,\n",
       "  'Amount': 700.0,\n",
       "  'Date & Time': '2021-09-06 10:09:49'},\n",
       " '9': {'Prod_id': '11265',\n",
       "  'Quantity': 1,\n",
       "  'Amount': 110.9,\n",
       "  'Date & Time': '2021-09-06 10:10:10'},\n",
       " '10': {'Prod_id': '10426',\n",
       "  'Quantity': 3,\n",
       "  'Amount': 630.0,\n",
       "  'Date & Time': '2021-09-06 10:10:37'},\n",
       " '11': {'Prod_id': '12451',\n",
       "  'Quantity': 1,\n",
       "  'Amount': 50.0,\n",
       "  'Date & Time': '2021-09-06 10:22:34'}}"
      ]
     },
     "execution_count": 8,
     "metadata": {},
     "output_type": "execute_result"
    }
   ],
   "source": [
    "f1 = open(\"Sales.json\",'r')\n",
    "sale = f1.read()\n",
    "f1.close()\n",
    "sales_rec = json.loads(sale)\n",
    "print(\"***** Sales Report *****\")\n",
    "sales_rec\n"
   ]
  },
  {
   "cell_type": "code",
   "execution_count": 9,
   "metadata": {},
   "outputs": [],
   "source": [
    "# To check how much sell done in a particular day"
   ]
  },
  {
   "cell_type": "code",
   "execution_count": 10,
   "metadata": {},
   "outputs": [
    {
     "name": "stdout",
     "output_type": "stream",
     "text": [
      "Enter date for which you want to see the Total sales amount : 2021-09-06\n",
      "   @@@@@@@@@@@@@@@@@   \n",
      "\n",
      "Total sell is : 3530.5\n"
     ]
    }
   ],
   "source": [
    "f1 = open(\"Sales.json\",'r')\n",
    "sale = f1.read()\n",
    "f1.close()\n",
    "sales_rec = json.loads(sale)\n",
    "\n",
    "day = input(\"Enter date for which you want to see the Total sales amount : \")\n",
    "Total_amt = 0\n",
    "for i in sales_rec.keys():\n",
    "    if(sales_rec[i]['Date & Time'][:10] == day):\n",
    "        Total_amt += sales_rec[i]['Amount']\n",
    "print(\"   @@@@@@@@@@@@@@@@@   \")\n",
    "print()\n",
    "print(\"Total sell is :\",Total_amt)    "
   ]
  },
  {
   "cell_type": "markdown",
   "metadata": {},
   "source": [
    "# To Check how many different catagories of items are there in Inventory"
   ]
  },
  {
   "cell_type": "code",
   "execution_count": 11,
   "metadata": {},
   "outputs": [
    {
     "name": "stdout",
     "output_type": "stream",
     "text": [
      "Snacks\n",
      "Soap\n",
      "Toothpaste\n",
      "Accessories\n",
      "Sugar\n",
      "Cleaning_material\n",
      "Oil\n",
      "Rice\n",
      "Electronics\n",
      "Detergent\n",
      "Jelly\n",
      "Chocolates\n",
      "Salt\n",
      "Biscuits\n",
      "Stationary\n"
     ]
    }
   ],
   "source": [
    "item_cat = set()\n",
    "for i in records.keys():\n",
    "    item_cat.add(records[i]['Catagory'])\n",
    "\n",
    "for i in item_cat: \n",
    "    print(i)\n",
    "\n"
   ]
  },
  {
   "cell_type": "markdown",
   "metadata": {},
   "source": [
    "# To check how many items are there in particular category"
   ]
  },
  {
   "cell_type": "code",
   "execution_count": 12,
   "metadata": {},
   "outputs": [
    {
     "name": "stdout",
     "output_type": "stream",
     "text": [
      "Enter Catagory : Jelly\n",
      "Product\t\tPrice\t\tQuantity\n",
      "Tomato-sos\t\t80.0\t\t4\n",
      "Soya-Sos\t\t80.0\t\t10\n"
     ]
    }
   ],
   "source": [
    "U_Cat = input(\"Enter Catagory : \")\n",
    "\n",
    "if U_Cat in item_cat: \n",
    "    print(\"Product\\t\\tPrice\\t\\tQuantity\")\n",
    "    for i in records.keys():\n",
    "        if(records[i]['Catagory'] == U_Cat):\n",
    "            print(records[i]['PName'],records[i]['Price'],records[i]['Quantity'],sep='\\t\\t')\n",
    "    \n",
    "else:\n",
    "    print(\"Sorry no item is available in this catagory !!\")"
   ]
  },
  {
   "cell_type": "code",
   "execution_count": null,
   "metadata": {},
   "outputs": [],
   "source": []
  }
 ],
 "metadata": {
  "kernelspec": {
   "display_name": "Python 3",
   "language": "python",
   "name": "python3"
  },
  "language_info": {
   "codemirror_mode": {
    "name": "ipython",
    "version": 3
   },
   "file_extension": ".py",
   "mimetype": "text/x-python",
   "name": "python",
   "nbconvert_exporter": "python",
   "pygments_lexer": "ipython3",
   "version": "3.8.3"
  }
 },
 "nbformat": 4,
 "nbformat_minor": 4
}
