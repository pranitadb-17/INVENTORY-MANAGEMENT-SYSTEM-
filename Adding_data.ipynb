{
 "cells": [
  {
   "cell_type": "code",
   "execution_count": 1,
   "metadata": {},
   "outputs": [],
   "source": [
    "import json\n",
    "import datetime"
   ]
  },
  {
   "cell_type": "markdown",
   "metadata": {},
   "source": [
    "# Reading data of Inventory"
   ]
  },
  {
   "cell_type": "code",
   "execution_count": 2,
   "metadata": {},
   "outputs": [
    {
     "data": {
      "text/plain": [
       "{'10785': {'PName': 'Sunflower-Oil',\n",
       "  'Quantity': 23,\n",
       "  'Price': 150.0,\n",
       "  'Catagory': 'Oil',\n",
       "  'Manufactured_Date': '2017-04-11',\n",
       "  'Expiry_Date': '2021-12-09'},\n",
       " '12342': {'PName': 'Sugar',\n",
       "  'Quantity': 10,\n",
       "  'Price': 45.0,\n",
       "  'Catagory': 'Soap',\n",
       "  'Manufactured_Date': '2019-11-09',\n",
       "  'Expiry_Date': '2022-11-03'},\n",
       " '10947': {'PName': 'Pen',\n",
       "  'Quantity': 25,\n",
       "  'Price': 10.0,\n",
       "  'Catagory': 'Stationary',\n",
       "  'Manufactured_Date': '2020-04-26',\n",
       "  'Expiry_Date': '2022-03-10'},\n",
       " '10349': {'PName': 'Notebooks',\n",
       "  'Quantity': 20,\n",
       "  'Price': 50.0,\n",
       "  'Catagory': 'Sugar',\n",
       "  'Manufactured_Date': '2018-07-15',\n",
       "  'Expiry_Date': '2023-09-10'},\n",
       " '10982': {'PName': 'Colgate',\n",
       "  'Quantity': 45,\n",
       "  'Price': 80.0,\n",
       "  'Catagory': 'Toothpaste',\n",
       "  'Manufactured_Date': '2019-02-29',\n",
       "  'Expiry_Date': '2022-06-30'},\n",
       " '11671': {'PName': 'Sanitary pad',\n",
       "  'Quantity': 5,\n",
       "  'Price': 110.0,\n",
       "  'Catagory': 'Sugar',\n",
       "  'Manufactured_Date': '2019-02-29',\n",
       "  'Expiry_Date': '2022-01-01'},\n",
       " '11978': {'PName': 'Cadbury',\n",
       "  'Quantity': 20,\n",
       "  'Price': 40.0,\n",
       "  'Catagory': 'Sugar',\n",
       "  'Manufactured_Date': '2019-11-09',\n",
       "  'Expiry_Date': '2023-07-23'},\n",
       " '12947': {'PName': 'Maggie',\n",
       "  'Quantity': 10,\n",
       "  'Price': 60.0,\n",
       "  'Catagory': 'Sugar',\n",
       "  'Manufactured_Date': '2018-07-15',\n",
       "  'Expiry_Date': '2022-10-10'},\n",
       " '13527': {'PName': 'Parle-G',\n",
       "  'Quantity': 50,\n",
       "  'Price': 100.0,\n",
       "  'Catagory': 'Biscuits',\n",
       "  'Manufactured_Date': '2019-02-29',\n",
       "  'Expiry_Date': '2023-10-24'},\n",
       " '11944': {'PName': 'Tomato-sos',\n",
       "  'Quantity': 4,\n",
       "  'Price': 80.0,\n",
       "  'Catagory': 'Jelly',\n",
       "  'Manufactured_Date': '2017-03-10',\n",
       "  'Expiry_Date': '2021-09-10'},\n",
       " '16448': {'PName': 'Pen',\n",
       "  'Quantity': 15,\n",
       "  'Price': 50.0,\n",
       "  'Catagory': 'Stationary',\n",
       "  'Manufactured_Date': '2018-07-15',\n",
       "  'Expiry_Date': '2024-10-19'},\n",
       " '10510': {'PName': 'Electric Heater',\n",
       "  'Quantity': 50,\n",
       "  'Price': 400.0,\n",
       "  'Catagory': 'Electronics',\n",
       "  'Manufactured_Date': '2020-04-26',\n",
       "  'Expiry_Date': '2023-01-01'},\n",
       " '10342': {'PName': 'Handwash',\n",
       "  'Quantity': 2,\n",
       "  'Price': 70.0,\n",
       "  'Catagory': 'Detergent',\n",
       "  'Manufactured_Date': '2018-01-12',\n",
       "  'Expiry_Date': '2021-12-19'},\n",
       " '10866': {'PName': 'Chips',\n",
       "  'Quantity': 10,\n",
       "  'Price': 15.0,\n",
       "  'Catagory': 'Snacks',\n",
       "  'Manufactured_Date': '2021-05-05',\n",
       "  'Expiry_Date': '2022-03-17'},\n",
       " '15214': {'PName': 'Soyasticks',\n",
       "  'Quantity': 5,\n",
       "  'Price': 40.0,\n",
       "  'Catagory': 'Snacks',\n",
       "  'Manufactured_Date': '2020-04-26',\n",
       "  'Expiry_Date': '2024-01-05'},\n",
       " '14611': {'PName': 'Kitkat',\n",
       "  'Quantity': 15,\n",
       "  'Price': 28.0,\n",
       "  'Catagory': 'Chocolates',\n",
       "  'Manufactured_Date': '2019-11-09',\n",
       "  'Expiry_Date': '2022-07-01'},\n",
       " '17542': {'PName': 'Handbag',\n",
       "  'Quantity': 3,\n",
       "  'Price': 250.0,\n",
       "  'Catagory': 'Accessories',\n",
       "  'Manufactured_Date': '2018-01-12',\n",
       "  'Expiry_Date': '2023-11-19'},\n",
       " '13519': {'PName': 'Maggie',\n",
       "  'Quantity': 2,\n",
       "  'Price': 240.0,\n",
       "  'Catagory': 'Snacks',\n",
       "  'Manufactured_Date': '2018-01-12',\n",
       "  'Expiry_Date': '2022-12-04'},\n",
       " '16431': {'PName': 'Bourbon',\n",
       "  'Quantity': 5,\n",
       "  'Price': 30.0,\n",
       "  'Catagory': 'Biscuits',\n",
       "  'Manufactured_Date': '2019-02-29',\n",
       "  'Expiry_Date': '2024-10-09'},\n",
       " '21957': {'PName': 'Dates',\n",
       "  'Quantity': 22,\n",
       "  'Price': 300.0,\n",
       "  'Catagory': 'Snacks',\n",
       "  'Manufactured_Date': '2021-05-05',\n",
       "  'Expiry_Date': '2023-10-24'},\n",
       " '12451': {'PName': 'Tata-Salt',\n",
       "  'Quantity': 1,\n",
       "  'Price': 50.0,\n",
       "  'Catagory': 'Salt',\n",
       "  'Manufactured_Date': '2019-11-09',\n",
       "  'Expiry_Date': '2021-09-10'},\n",
       " '17443': {'PName': 'Chips',\n",
       "  'Quantity': 4,\n",
       "  'Price': 20.0,\n",
       "  'Catagory': 'Snacks',\n",
       "  'Manufactured_Date': '2018-01-12',\n",
       "  'Expiry_Date': '2023-09-10'},\n",
       " '11949': {'PName': 'Soya-Sos',\n",
       "  'Quantity': 10,\n",
       "  'Price': 80.0,\n",
       "  'Catagory': 'Jelly',\n",
       "  'Manufactured_Date': '2021-05-05',\n",
       "  'Expiry_Date': '2022-07-01'},\n",
       " '15472': {'PName': 'DairyMilk',\n",
       "  'Quantity': 10,\n",
       "  'Price': 100.0,\n",
       "  'Catagory': 'Chocolates',\n",
       "  'Manufactured_Date': '2017-03-10',\n",
       "  'Expiry_Date': '2022-11-03'},\n",
       " '19753': {'PName': 'Parle-G',\n",
       "  'Quantity': 15,\n",
       "  'Price': 240.0,\n",
       "  'Catagory': 'Biscuits',\n",
       "  'Manufactured_Date': '2021-05-30',\n",
       "  'Expiry_Date': '2023-01-01'},\n",
       " '14236': {'PName': 'Marie_gold',\n",
       "  'Quantity': 9,\n",
       "  'Price': 100.0,\n",
       "  'Catagory': 'Biscuits',\n",
       "  'Manufactured_Date': '2021-05-30',\n",
       "  'Expiry_Date': '2024-10-09'},\n",
       " '11265': {'PName': 'Icecream',\n",
       "  'Quantity': 5,\n",
       "  'Price': 110.9,\n",
       "  'Catagory': 'Chocolates',\n",
       "  'Manufactured_Date': '2017-03-10',\n",
       "  'Expiry_Date': '2022-03-17'},\n",
       " '13473': {'PName': 'Basmati',\n",
       "  'Quantity': 1,\n",
       "  'Price': 450.0,\n",
       "  'Catagory': 'Rice',\n",
       "  'Manufactured_Date': '2018-01-12',\n",
       "  'Expiry_Date': '2022-12-04'},\n",
       " '10426': {'PName': 'Mob',\n",
       "  'Quantity': 65,\n",
       "  'Price': 210.0,\n",
       "  'Catagory': 'Cleaning_material',\n",
       "  'Manufactured_Date': '2020-10-15',\n",
       "  'Expiry_Date': '2023-09-18'}}"
      ]
     },
     "execution_count": 2,
     "metadata": {},
     "output_type": "execute_result"
    }
   ],
   "source": [
    "f1=open(\"Records.json\",'r')\n",
    "ip = f1.read()\n",
    "f1.close()\n",
    "records = json.loads(ip)\n",
    "records"
   ]
  },
  {
   "cell_type": "markdown",
   "metadata": {},
   "source": [
    "# Adding new item details in inventory"
   ]
  },
  {
   "cell_type": "code",
   "execution_count": 3,
   "metadata": {},
   "outputs": [
    {
     "name": "stdout",
     "output_type": "stream",
     "text": [
      "Enter Product Id : 16736\n",
      "Enter Product Name : Battery\n",
      "Enter Product Quantity : 100\n",
      "Enter Product Price : 20\n",
      "Enter Product Catogery : Electronics\n",
      "Enter Manufactured Date : 2020-07-16\n",
      "Enter Expiry Date : 2023-11-10\n"
     ]
    }
   ],
   "source": [
    "Prod_Id = input(\"Enter Product Id : \")\n",
    "Prod_name = input(\"Enter Product Name : \")\n",
    "Prod_qn = int(input(\"Enter Product Quantity : \"))\n",
    "Prod_Pr = float(input(\"Enter Product Price : \"))\n",
    "Prod_cat = input(\"Enter Product Catogery : \")\n",
    "Prod_M_date = input(\"Enter Manufactured Date : \")\n",
    "Prod_Ex_date = input(\"Enter Expiry Date : \")"
   ]
  },
  {
   "cell_type": "code",
   "execution_count": 4,
   "metadata": {},
   "outputs": [
    {
     "name": "stdout",
     "output_type": "stream",
     "text": [
      "Added new item in the Inventory\n"
     ]
    }
   ],
   "source": [
    "if(Prod_Id in records.keys()): \n",
    "    Prev_qn = records[Prod_Id]['Quantity']\n",
    "    records[Prod_Id]={'PName': Prod_name, 'Quantity': (Prod_qn + Prev_qn), 'Price': Prod_Pr, 'Catagory': Prod_cat, 'Manufactured_Date': Prod_M_date, 'Expiry_Date': Prod_Ex_date} \n",
    "    print(\"Added new quantity of present item in the Inventory\")\n",
    "    \n",
    "else:\n",
    "    records[Prod_Id]={'PName': Prod_name, 'Quantity': Prod_qn, 'Price': Prod_Pr, 'Catagory': Prod_cat, 'Manufactured_Date': Prod_M_date, 'Expiry_Date': Prod_Ex_date}            \n",
    "    print(\"Added new item in the Inventory\") "
   ]
  },
  {
   "cell_type": "markdown",
   "metadata": {},
   "source": [
    "# Updating Records after adding new item details in Inventory"
   ]
  },
  {
   "cell_type": "code",
   "execution_count": 5,
   "metadata": {},
   "outputs": [],
   "source": [
    "r = json.dumps(records)\n",
    "\n",
    "fd = open(\"Records.json\",'w')\n",
    "fd.write(r)\n",
    "fd.close()  "
   ]
  },
  {
   "cell_type": "markdown",
   "metadata": {},
   "source": [
    "# Removing items whose expiry date is passed"
   ]
  },
  {
   "cell_type": "code",
   "execution_count": 8,
   "metadata": {},
   "outputs": [
    {
     "name": "stdout",
     "output_type": "stream",
     "text": [
      "No item is expired....\n"
     ]
    }
   ],
   "source": [
    "f1=open(\"Records.json\",'r')\n",
    "ip = f1.read()\n",
    "f1.close()\n",
    "records = json.loads(ip)\n",
    "format_str = '%Y-%m-%d' # The format\n",
    "Expired_item = []\n",
    "for i in records.keys():\n",
    "    Ex_dt = datetime.datetime.strptime(records[i]['Expiry_Date'], format_str)\n",
    "    Cur_dt = datetime.date.today()\n",
    "    \n",
    "    if(Ex_dt.date() < Cur_dt):\n",
    "        Expired_item.append(i)\n",
    "if(len(Expired_item)==0):\n",
    "    print(\"No item is expired....\")\n",
    "    \n",
    "else:\n",
    "    for i in Expired_item:\n",
    "        print(i)\n",
    "        records.pop(i)\n",
    "        print(\"Item is removed from the Inventory\")\n",
    "    \n",
    "    "
   ]
  },
  {
   "cell_type": "markdown",
   "metadata": {},
   "source": [
    "# Updating Inventory after removing expired items if any"
   ]
  },
  {
   "cell_type": "code",
   "execution_count": 7,
   "metadata": {},
   "outputs": [
    {
     "name": "stdout",
     "output_type": "stream",
     "text": [
      "Inventory data updated after removing expired items\n"
     ]
    }
   ],
   "source": [
    "r = json.dumps(records)\n",
    "\n",
    "fd = open(\"Records.json\",'w')\n",
    "fd.write(r)\n",
    "fd.close()\n",
    "print(\"Inventory data updated after removing expired items\")"
   ]
  },
  {
   "cell_type": "code",
   "execution_count": null,
   "metadata": {},
   "outputs": [],
   "source": []
  }
 ],
 "metadata": {
  "kernelspec": {
   "display_name": "Python 3",
   "language": "python",
   "name": "python3"
  },
  "language_info": {
   "codemirror_mode": {
    "name": "ipython",
    "version": 3
   },
   "file_extension": ".py",
   "mimetype": "text/x-python",
   "name": "python",
   "nbconvert_exporter": "python",
   "pygments_lexer": "ipython3",
   "version": "3.8.3"
  }
 },
 "nbformat": 4,
 "nbformat_minor": 4
}
